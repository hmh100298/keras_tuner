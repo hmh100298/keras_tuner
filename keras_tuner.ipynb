{
  "nbformat": 4,
  "nbformat_minor": 0,
  "metadata": {
    "colab": {
      "name": "keras_tuner.ipynb",
      "provenance": [],
      "collapsed_sections": [],
      "authorship_tag": "ABX9TyMpKOMnDPBqErxNMrBxcKTt",
      "include_colab_link": true
    },
    "kernelspec": {
      "name": "python3",
      "display_name": "Python 3"
    },
    "language_info": {
      "name": "python"
    }
  },
  "cells": [
    {
      "cell_type": "markdown",
      "metadata": {
        "id": "view-in-github",
        "colab_type": "text"
      },
      "source": [
        "<a href=\"https://colab.research.google.com/github/hmh100298/keras_tuner/blob/main/keras_tuner.ipynb\" target=\"_parent\"><img src=\"https://colab.research.google.com/assets/colab-badge.svg\" alt=\"Open In Colab\"/></a>"
      ]
    },
    {
      "cell_type": "code",
      "metadata": {
        "id": "h4iNKmPY9yfs"
      },
      "source": [
        "import tensorflow as tf\n",
        "from tensorflow import keras\n",
        "from tensorflow.keras.models import Sequential"
      ],
      "execution_count": 72,
      "outputs": []
    },
    {
      "cell_type": "code",
      "metadata": {
        "colab": {
          "base_uri": "https://localhost:8080/"
        },
        "id": "n7sqsS0lAgEc",
        "outputId": "e8b030d7-2bf3-46ec-85dd-395610b47c2c"
      },
      "source": [
        "!pip install keras-tuner --upgrade"
      ],
      "execution_count": 73,
      "outputs": [
        {
          "output_type": "stream",
          "text": [
            "Requirement already satisfied: keras-tuner in /usr/local/lib/python3.7/dist-packages (1.0.3)\n",
            "Requirement already satisfied: packaging in /usr/local/lib/python3.7/dist-packages (from keras-tuner) (21.0)\n",
            "Requirement already satisfied: numpy in /usr/local/lib/python3.7/dist-packages (from keras-tuner) (1.19.5)\n",
            "Requirement already satisfied: kt-legacy in /usr/local/lib/python3.7/dist-packages (from keras-tuner) (1.0.3)\n",
            "Requirement already satisfied: ipython in /usr/local/lib/python3.7/dist-packages (from keras-tuner) (5.5.0)\n",
            "Requirement already satisfied: requests in /usr/local/lib/python3.7/dist-packages (from keras-tuner) (2.23.0)\n",
            "Requirement already satisfied: tensorboard in /usr/local/lib/python3.7/dist-packages (from keras-tuner) (2.5.0)\n",
            "Requirement already satisfied: scipy in /usr/local/lib/python3.7/dist-packages (from keras-tuner) (1.4.1)\n",
            "Requirement already satisfied: pickleshare in /usr/local/lib/python3.7/dist-packages (from ipython->keras-tuner) (0.7.5)\n",
            "Requirement already satisfied: simplegeneric>0.8 in /usr/local/lib/python3.7/dist-packages (from ipython->keras-tuner) (0.8.1)\n",
            "Requirement already satisfied: decorator in /usr/local/lib/python3.7/dist-packages (from ipython->keras-tuner) (4.4.2)\n",
            "Requirement already satisfied: traitlets>=4.2 in /usr/local/lib/python3.7/dist-packages (from ipython->keras-tuner) (5.0.5)\n",
            "Requirement already satisfied: setuptools>=18.5 in /usr/local/lib/python3.7/dist-packages (from ipython->keras-tuner) (57.2.0)\n",
            "Requirement already satisfied: prompt-toolkit<2.0.0,>=1.0.4 in /usr/local/lib/python3.7/dist-packages (from ipython->keras-tuner) (1.0.18)\n",
            "Requirement already satisfied: pexpect in /usr/local/lib/python3.7/dist-packages (from ipython->keras-tuner) (4.8.0)\n",
            "Requirement already satisfied: pygments in /usr/local/lib/python3.7/dist-packages (from ipython->keras-tuner) (2.6.1)\n",
            "Requirement already satisfied: wcwidth in /usr/local/lib/python3.7/dist-packages (from prompt-toolkit<2.0.0,>=1.0.4->ipython->keras-tuner) (0.2.5)\n",
            "Requirement already satisfied: six>=1.9.0 in /usr/local/lib/python3.7/dist-packages (from prompt-toolkit<2.0.0,>=1.0.4->ipython->keras-tuner) (1.15.0)\n",
            "Requirement already satisfied: ipython-genutils in /usr/local/lib/python3.7/dist-packages (from traitlets>=4.2->ipython->keras-tuner) (0.2.0)\n",
            "Requirement already satisfied: pyparsing>=2.0.2 in /usr/local/lib/python3.7/dist-packages (from packaging->keras-tuner) (2.4.7)\n",
            "Requirement already satisfied: ptyprocess>=0.5 in /usr/local/lib/python3.7/dist-packages (from pexpect->ipython->keras-tuner) (0.7.0)\n",
            "Requirement already satisfied: idna<3,>=2.5 in /usr/local/lib/python3.7/dist-packages (from requests->keras-tuner) (2.10)\n",
            "Requirement already satisfied: chardet<4,>=3.0.2 in /usr/local/lib/python3.7/dist-packages (from requests->keras-tuner) (3.0.4)\n",
            "Requirement already satisfied: urllib3!=1.25.0,!=1.25.1,<1.26,>=1.21.1 in /usr/local/lib/python3.7/dist-packages (from requests->keras-tuner) (1.24.3)\n",
            "Requirement already satisfied: certifi>=2017.4.17 in /usr/local/lib/python3.7/dist-packages (from requests->keras-tuner) (2021.5.30)\n",
            "Requirement already satisfied: markdown>=2.6.8 in /usr/local/lib/python3.7/dist-packages (from tensorboard->keras-tuner) (3.3.4)\n",
            "Requirement already satisfied: tensorboard-data-server<0.7.0,>=0.6.0 in /usr/local/lib/python3.7/dist-packages (from tensorboard->keras-tuner) (0.6.1)\n",
            "Requirement already satisfied: wheel>=0.26 in /usr/local/lib/python3.7/dist-packages (from tensorboard->keras-tuner) (0.36.2)\n",
            "Requirement already satisfied: absl-py>=0.4 in /usr/local/lib/python3.7/dist-packages (from tensorboard->keras-tuner) (0.12.0)\n",
            "Requirement already satisfied: grpcio>=1.24.3 in /usr/local/lib/python3.7/dist-packages (from tensorboard->keras-tuner) (1.34.1)\n",
            "Requirement already satisfied: google-auth-oauthlib<0.5,>=0.4.1 in /usr/local/lib/python3.7/dist-packages (from tensorboard->keras-tuner) (0.4.4)\n",
            "Requirement already satisfied: google-auth<2,>=1.6.3 in /usr/local/lib/python3.7/dist-packages (from tensorboard->keras-tuner) (1.32.1)\n",
            "Requirement already satisfied: protobuf>=3.6.0 in /usr/local/lib/python3.7/dist-packages (from tensorboard->keras-tuner) (3.17.3)\n",
            "Requirement already satisfied: tensorboard-plugin-wit>=1.6.0 in /usr/local/lib/python3.7/dist-packages (from tensorboard->keras-tuner) (1.8.0)\n",
            "Requirement already satisfied: werkzeug>=0.11.15 in /usr/local/lib/python3.7/dist-packages (from tensorboard->keras-tuner) (1.0.1)\n",
            "Requirement already satisfied: pyasn1-modules>=0.2.1 in /usr/local/lib/python3.7/dist-packages (from google-auth<2,>=1.6.3->tensorboard->keras-tuner) (0.2.8)\n",
            "Requirement already satisfied: cachetools<5.0,>=2.0.0 in /usr/local/lib/python3.7/dist-packages (from google-auth<2,>=1.6.3->tensorboard->keras-tuner) (4.2.2)\n",
            "Requirement already satisfied: rsa<5,>=3.1.4 in /usr/local/lib/python3.7/dist-packages (from google-auth<2,>=1.6.3->tensorboard->keras-tuner) (4.7.2)\n",
            "Requirement already satisfied: requests-oauthlib>=0.7.0 in /usr/local/lib/python3.7/dist-packages (from google-auth-oauthlib<0.5,>=0.4.1->tensorboard->keras-tuner) (1.3.0)\n",
            "Requirement already satisfied: importlib-metadata in /usr/local/lib/python3.7/dist-packages (from markdown>=2.6.8->tensorboard->keras-tuner) (4.6.1)\n",
            "Requirement already satisfied: pyasn1<0.5.0,>=0.4.6 in /usr/local/lib/python3.7/dist-packages (from pyasn1-modules>=0.2.1->google-auth<2,>=1.6.3->tensorboard->keras-tuner) (0.4.8)\n",
            "Requirement already satisfied: oauthlib>=3.0.0 in /usr/local/lib/python3.7/dist-packages (from requests-oauthlib>=0.7.0->google-auth-oauthlib<0.5,>=0.4.1->tensorboard->keras-tuner) (3.1.1)\n",
            "Requirement already satisfied: zipp>=0.5 in /usr/local/lib/python3.7/dist-packages (from importlib-metadata->markdown>=2.6.8->tensorboard->keras-tuner) (3.5.0)\n",
            "Requirement already satisfied: typing-extensions>=3.6.4 in /usr/local/lib/python3.7/dist-packages (from importlib-metadata->markdown>=2.6.8->tensorboard->keras-tuner) (3.7.4.3)\n"
          ],
          "name": "stdout"
        }
      ]
    },
    {
      "cell_type": "code",
      "metadata": {
        "id": "4BhcTMU9CI6b"
      },
      "source": [
        "import keras_tuner as kt\n",
        "from keras_tuner.tuners import Hyperband\n",
        "\n",
        "(img_train, label_train), (img_test, label_test) = keras.datasets.fashion_mnist.load_data()  ### du lieu quan ao tu fashion mnist\n",
        "# chuan hoa gia tri pixel ve [0,1]\n",
        "img_train = img_train.astype('float32')/255.0\n",
        "img_test = img_test.astype('float32')/255.0"
      ],
      "execution_count": 74,
      "outputs": []
    },
    {
      "cell_type": "code",
      "metadata": {
        "id": "gm3kKyROE6kb"
      },
      "source": [
        "# hyper_model: build a model for hypertuning, hypertuning: quá trình lựa chọn quyền thiết lập các siêu tham số cho việc học máy tính của bạn ứng dụng (ML) \n",
        "#The model you set up for hypertuning is called a hypermodel.\n",
        "def model_builder(hp):\n",
        "  model = keras.Sequential()\n",
        "  model.add(keras.layers.Flatten(input_shape=(28,28))) #flatten : lam phang\n",
        "# Tune the number of units in the first Dense layer\n",
        "# Choose an optimal value between 32-512\n",
        "  hp_units = hp.Int('units', min_value=32, max_value=512, step=32)\n",
        "  model.add(keras.layers.Dense(units=hp_units, activation='relu'))\n",
        "  model.add(keras.layers.Dense(10)) # 10 neural\n",
        "# Tune the learning rate for the optimizer\n",
        "# Choose an optimal value from 0.01, 0.001, or 0.0001\n",
        "  hp_learning_rate = hp.Choice('learning_rate', values=[1e-2, 1e-3, 1e-4])\n",
        "  model.compile(optimizer=keras.optimizers.Adam(learning_rate=hp_learning_rate), # configure model\n",
        "                loss=keras.losses.SparseCategoricalCrossentropy(from_logits=True),\n",
        "                metrics=['accuracy'])\n",
        "  return model"
      ],
      "execution_count": 80,
      "outputs": []
    },
    {
      "cell_type": "code",
      "metadata": {
        "colab": {
          "base_uri": "https://localhost:8080/"
        },
        "id": "FGKSrx3zT8I_",
        "outputId": "92931941-eaf2-4433-a564-9316eb9eee9c"
      },
      "source": [
        "#To instantiate the Hyperband tuner, you must specify the hypermodel, the objective to optimize and the maximum number of epochs to train (max_epochs).\n",
        "tuner = kt.Hyperband(model_builder,\n",
        "                     objective='val_accuracy',\n",
        "                     max_epochs=10,\n",
        "                     factor=3,\n",
        "                     directory='my_dir',\n",
        "                     project_name='intro_to_kt')\n",
        "# Create a callback to stop training early after reaching a certain value for the validation loss.\n",
        "stop_early = tf.keras.callbacks.EarlyStopping(monitor='val_loss', patience=5)\n",
        "# Run the hyperparameter search. \n",
        "tuner.search(img_train, label_train, epochs=50, validation_split=0.2, callbacks=[stop_early])\n",
        "\n",
        "# Get the optimal hyperparameters\n",
        "best_hps=tuner.get_best_hyperparameters(num_trials=1)[0]\n",
        "\n",
        "print(f\"\"\"\n",
        "The hyperparameter search is complete. The optimal number of units in the first densely-connected\n",
        "layer is {best_hps.get('units')} and the optimal learning rate for the optimizer\n",
        "is {best_hps.get('learning_rate')}.\n",
        "\"\"\")"
      ],
      "execution_count": 81,
      "outputs": [
        {
          "output_type": "stream",
          "text": [
            "Trial 30 Complete [00h 00m 41s]\n",
            "val_accuracy: 0.8856666684150696\n",
            "\n",
            "Best val_accuracy So Far: 0.8889999985694885\n",
            "Total elapsed time: 00h 14m 05s\n",
            "INFO:tensorflow:Oracle triggered exit\n",
            "\n",
            "The hyperparameter search is complete. The optimal number of units in the first densely-connected\n",
            "layer is 288 and the optimal learning rate for the optimizer\n",
            "is 0.001.\n",
            "\n"
          ],
          "name": "stdout"
        }
      ]
    },
    {
      "cell_type": "code",
      "metadata": {
        "colab": {
          "base_uri": "https://localhost:8080/"
        },
        "id": "qTYgGQOMH5DX",
        "outputId": "5f2f1f3e-6511-4e32-e2ea-f164ea082556"
      },
      "source": [
        "# tim epoch tối ưu để huấn luyện mô hình với các tham số tối ưu đã tìm được ở trên\n",
        "# xây dựng model với tham số tối ưu đã tìm đc\n",
        "model = tuner.hypermodel.build(best_hps)\n",
        "history = model.fit(img_train, label_train, epochs=50, validation_split=0.2)\n",
        "\n",
        "val_acc_per_epoch = history.history['val_accuracy']\n",
        "best_epoch = val_acc_per_epoch.index(max(val_acc_per_epoch)) + 1\n",
        "print('Best epoch: %d' % (best_epoch,))"
      ],
      "execution_count": 83,
      "outputs": [
        {
          "output_type": "stream",
          "text": [
            "Epoch 1/50\n",
            "1500/1500 [==============================] - 6s 4ms/step - loss: 0.4993 - accuracy: 0.8230 - val_loss: 0.4187 - val_accuracy: 0.8508\n",
            "Epoch 2/50\n",
            "1500/1500 [==============================] - 5s 3ms/step - loss: 0.3762 - accuracy: 0.8633 - val_loss: 0.3672 - val_accuracy: 0.8666\n",
            "Epoch 3/50\n",
            "1500/1500 [==============================] - 6s 4ms/step - loss: 0.3307 - accuracy: 0.8785 - val_loss: 0.3642 - val_accuracy: 0.8673\n",
            "Epoch 4/50\n",
            "1500/1500 [==============================] - 5s 4ms/step - loss: 0.3067 - accuracy: 0.8869 - val_loss: 0.3537 - val_accuracy: 0.8675\n",
            "Epoch 5/50\n",
            "1500/1500 [==============================] - 6s 4ms/step - loss: 0.2883 - accuracy: 0.8923 - val_loss: 0.3277 - val_accuracy: 0.8867\n",
            "Epoch 6/50\n",
            "1500/1500 [==============================] - 5s 4ms/step - loss: 0.2736 - accuracy: 0.8982 - val_loss: 0.3356 - val_accuracy: 0.8817\n",
            "Epoch 7/50\n",
            "1500/1500 [==============================] - 5s 4ms/step - loss: 0.2599 - accuracy: 0.9021 - val_loss: 0.3235 - val_accuracy: 0.8852\n",
            "Epoch 8/50\n",
            "1500/1500 [==============================] - 5s 4ms/step - loss: 0.2485 - accuracy: 0.9070 - val_loss: 0.3260 - val_accuracy: 0.8841\n",
            "Epoch 9/50\n",
            "1500/1500 [==============================] - 6s 4ms/step - loss: 0.2375 - accuracy: 0.9099 - val_loss: 0.3192 - val_accuracy: 0.8892\n",
            "Epoch 10/50\n",
            "1500/1500 [==============================] - 5s 4ms/step - loss: 0.2249 - accuracy: 0.9151 - val_loss: 0.3250 - val_accuracy: 0.8907\n",
            "Epoch 11/50\n",
            "1500/1500 [==============================] - 5s 4ms/step - loss: 0.2191 - accuracy: 0.9177 - val_loss: 0.3234 - val_accuracy: 0.8883\n",
            "Epoch 12/50\n",
            "1500/1500 [==============================] - 5s 4ms/step - loss: 0.2081 - accuracy: 0.9208 - val_loss: 0.3215 - val_accuracy: 0.8929\n",
            "Epoch 13/50\n",
            "1500/1500 [==============================] - 5s 4ms/step - loss: 0.2026 - accuracy: 0.9228 - val_loss: 0.3292 - val_accuracy: 0.8894\n",
            "Epoch 14/50\n",
            "1500/1500 [==============================] - 5s 4ms/step - loss: 0.1951 - accuracy: 0.9266 - val_loss: 0.3277 - val_accuracy: 0.8923\n",
            "Epoch 15/50\n",
            "1500/1500 [==============================] - 5s 4ms/step - loss: 0.1887 - accuracy: 0.9290 - val_loss: 0.3386 - val_accuracy: 0.8874\n",
            "Epoch 16/50\n",
            "1500/1500 [==============================] - 5s 4ms/step - loss: 0.1813 - accuracy: 0.9310 - val_loss: 0.3341 - val_accuracy: 0.8948\n",
            "Epoch 17/50\n",
            "1500/1500 [==============================] - 5s 4ms/step - loss: 0.1745 - accuracy: 0.9355 - val_loss: 0.3494 - val_accuracy: 0.8873\n",
            "Epoch 18/50\n",
            "1500/1500 [==============================] - 6s 4ms/step - loss: 0.1706 - accuracy: 0.9356 - val_loss: 0.3696 - val_accuracy: 0.8874\n",
            "Epoch 19/50\n",
            "1500/1500 [==============================] - 6s 4ms/step - loss: 0.1642 - accuracy: 0.9374 - val_loss: 0.3364 - val_accuracy: 0.8932\n",
            "Epoch 20/50\n",
            "1500/1500 [==============================] - 6s 4ms/step - loss: 0.1603 - accuracy: 0.9400 - val_loss: 0.3617 - val_accuracy: 0.8907\n",
            "Epoch 21/50\n",
            "1500/1500 [==============================] - 5s 4ms/step - loss: 0.1542 - accuracy: 0.9407 - val_loss: 0.3554 - val_accuracy: 0.8919\n",
            "Epoch 22/50\n",
            "1500/1500 [==============================] - 6s 4ms/step - loss: 0.1472 - accuracy: 0.9443 - val_loss: 0.3609 - val_accuracy: 0.8885\n",
            "Epoch 23/50\n",
            "1500/1500 [==============================] - 5s 4ms/step - loss: 0.1478 - accuracy: 0.9443 - val_loss: 0.3663 - val_accuracy: 0.8904\n",
            "Epoch 24/50\n",
            "1500/1500 [==============================] - 6s 4ms/step - loss: 0.1410 - accuracy: 0.9474 - val_loss: 0.3564 - val_accuracy: 0.8932\n",
            "Epoch 25/50\n",
            "1500/1500 [==============================] - 5s 4ms/step - loss: 0.1373 - accuracy: 0.9471 - val_loss: 0.3668 - val_accuracy: 0.8941\n",
            "Epoch 26/50\n",
            "1500/1500 [==============================] - 5s 4ms/step - loss: 0.1341 - accuracy: 0.9497 - val_loss: 0.3717 - val_accuracy: 0.8898\n",
            "Epoch 27/50\n",
            "1500/1500 [==============================] - 6s 4ms/step - loss: 0.1291 - accuracy: 0.9517 - val_loss: 0.3876 - val_accuracy: 0.8945\n",
            "Epoch 28/50\n",
            "1500/1500 [==============================] - 5s 4ms/step - loss: 0.1296 - accuracy: 0.9512 - val_loss: 0.4120 - val_accuracy: 0.8923\n",
            "Epoch 29/50\n",
            "1500/1500 [==============================] - 5s 4ms/step - loss: 0.1244 - accuracy: 0.9528 - val_loss: 0.3874 - val_accuracy: 0.8964\n",
            "Epoch 30/50\n",
            "1500/1500 [==============================] - 5s 4ms/step - loss: 0.1172 - accuracy: 0.9552 - val_loss: 0.4081 - val_accuracy: 0.8962\n",
            "Epoch 31/50\n",
            "1500/1500 [==============================] - 6s 4ms/step - loss: 0.1173 - accuracy: 0.9562 - val_loss: 0.4079 - val_accuracy: 0.8922\n",
            "Epoch 32/50\n",
            "1500/1500 [==============================] - 6s 4ms/step - loss: 0.1125 - accuracy: 0.9577 - val_loss: 0.4197 - val_accuracy: 0.8891\n",
            "Epoch 33/50\n",
            "1500/1500 [==============================] - 6s 4ms/step - loss: 0.1109 - accuracy: 0.9581 - val_loss: 0.4382 - val_accuracy: 0.8891\n",
            "Epoch 34/50\n",
            "1500/1500 [==============================] - 6s 4ms/step - loss: 0.1093 - accuracy: 0.9594 - val_loss: 0.4367 - val_accuracy: 0.8924\n",
            "Epoch 35/50\n",
            "1500/1500 [==============================] - 5s 4ms/step - loss: 0.1070 - accuracy: 0.9593 - val_loss: 0.4450 - val_accuracy: 0.8928\n",
            "Epoch 36/50\n",
            "1500/1500 [==============================] - 6s 4ms/step - loss: 0.1024 - accuracy: 0.9621 - val_loss: 0.4443 - val_accuracy: 0.8913\n",
            "Epoch 37/50\n",
            "1500/1500 [==============================] - 5s 4ms/step - loss: 0.1035 - accuracy: 0.9613 - val_loss: 0.4352 - val_accuracy: 0.8919\n",
            "Epoch 38/50\n",
            "1500/1500 [==============================] - 6s 4ms/step - loss: 0.0989 - accuracy: 0.9625 - val_loss: 0.4523 - val_accuracy: 0.8913\n",
            "Epoch 39/50\n",
            "1500/1500 [==============================] - 5s 4ms/step - loss: 0.0975 - accuracy: 0.9640 - val_loss: 0.4755 - val_accuracy: 0.8896\n",
            "Epoch 40/50\n",
            "1500/1500 [==============================] - 6s 4ms/step - loss: 0.0906 - accuracy: 0.9661 - val_loss: 0.4621 - val_accuracy: 0.8936\n",
            "Epoch 41/50\n",
            "1500/1500 [==============================] - 6s 4ms/step - loss: 0.0943 - accuracy: 0.9643 - val_loss: 0.4629 - val_accuracy: 0.8951\n",
            "Epoch 42/50\n",
            "1500/1500 [==============================] - 5s 4ms/step - loss: 0.0902 - accuracy: 0.9661 - val_loss: 0.4672 - val_accuracy: 0.8927\n",
            "Epoch 43/50\n",
            "1500/1500 [==============================] - 6s 4ms/step - loss: 0.0868 - accuracy: 0.9658 - val_loss: 0.4825 - val_accuracy: 0.8922\n",
            "Epoch 44/50\n",
            "1500/1500 [==============================] - 6s 4ms/step - loss: 0.0880 - accuracy: 0.9671 - val_loss: 0.5128 - val_accuracy: 0.8893\n",
            "Epoch 45/50\n",
            "1500/1500 [==============================] - 5s 4ms/step - loss: 0.0862 - accuracy: 0.9673 - val_loss: 0.4860 - val_accuracy: 0.8954\n",
            "Epoch 46/50\n",
            "1500/1500 [==============================] - 6s 4ms/step - loss: 0.0838 - accuracy: 0.9694 - val_loss: 0.5368 - val_accuracy: 0.8856\n",
            "Epoch 47/50\n",
            "1500/1500 [==============================] - 5s 4ms/step - loss: 0.0815 - accuracy: 0.9697 - val_loss: 0.5080 - val_accuracy: 0.8917\n",
            "Epoch 48/50\n",
            "1500/1500 [==============================] - 5s 4ms/step - loss: 0.0820 - accuracy: 0.9692 - val_loss: 0.4890 - val_accuracy: 0.8978\n",
            "Epoch 49/50\n",
            "1500/1500 [==============================] - 6s 4ms/step - loss: 0.0773 - accuracy: 0.9713 - val_loss: 0.5228 - val_accuracy: 0.8927\n",
            "Epoch 50/50\n",
            "1500/1500 [==============================] - 6s 4ms/step - loss: 0.0758 - accuracy: 0.9711 - val_loss: 0.5562 - val_accuracy: 0.8873\n",
            "Best epoch: 48\n"
          ],
          "name": "stdout"
        }
      ]
    },
    {
      "cell_type": "code",
      "metadata": {
        "colab": {
          "base_uri": "https://localhost:8080/"
        },
        "id": "bW4Nnh8bMDn3",
        "outputId": "4d3b0d0c-45cf-4c2a-ad1a-c95503b9c147"
      },
      "source": [
        "# Khởi tạo lại siêu mô hình và train nó với epoch toi uu từ phía trên\n",
        "hypermodel = tuner.hypermodel.build(best_hps)\n",
        "\n",
        "# Retrain the model\n",
        "hypermodel.fit(img_train, label_train, epochs=best_epoch, validation_split=0.2)\n"
      ],
      "execution_count": 84,
      "outputs": [
        {
          "output_type": "stream",
          "text": [
            "Epoch 1/48\n",
            "1500/1500 [==============================] - 6s 4ms/step - loss: 0.4993 - accuracy: 0.8232 - val_loss: 0.3946 - val_accuracy: 0.8595\n",
            "Epoch 2/48\n",
            "1500/1500 [==============================] - 6s 4ms/step - loss: 0.3715 - accuracy: 0.8649 - val_loss: 0.3655 - val_accuracy: 0.8666\n",
            "Epoch 3/48\n",
            "1500/1500 [==============================] - 5s 3ms/step - loss: 0.3332 - accuracy: 0.8774 - val_loss: 0.3465 - val_accuracy: 0.8763\n",
            "Epoch 4/48\n",
            "1500/1500 [==============================] - 6s 4ms/step - loss: 0.3101 - accuracy: 0.8859 - val_loss: 0.3231 - val_accuracy: 0.8832\n",
            "Epoch 5/48\n",
            "1500/1500 [==============================] - 5s 4ms/step - loss: 0.2905 - accuracy: 0.8915 - val_loss: 0.3326 - val_accuracy: 0.8801\n",
            "Epoch 6/48\n",
            "1500/1500 [==============================] - 6s 4ms/step - loss: 0.2758 - accuracy: 0.8986 - val_loss: 0.3259 - val_accuracy: 0.8819\n",
            "Epoch 7/48\n",
            "1500/1500 [==============================] - 5s 4ms/step - loss: 0.2611 - accuracy: 0.9023 - val_loss: 0.3282 - val_accuracy: 0.8802\n",
            "Epoch 8/48\n",
            "1500/1500 [==============================] - 5s 4ms/step - loss: 0.2502 - accuracy: 0.9063 - val_loss: 0.3228 - val_accuracy: 0.8878\n",
            "Epoch 9/48\n",
            "1500/1500 [==============================] - 5s 4ms/step - loss: 0.2372 - accuracy: 0.9110 - val_loss: 0.3104 - val_accuracy: 0.8913\n",
            "Epoch 10/48\n",
            "1500/1500 [==============================] - 5s 4ms/step - loss: 0.2295 - accuracy: 0.9139 - val_loss: 0.3172 - val_accuracy: 0.8912\n",
            "Epoch 11/48\n",
            "1500/1500 [==============================] - 5s 3ms/step - loss: 0.2219 - accuracy: 0.9174 - val_loss: 0.3065 - val_accuracy: 0.8947\n",
            "Epoch 12/48\n",
            "1500/1500 [==============================] - 5s 4ms/step - loss: 0.2132 - accuracy: 0.9198 - val_loss: 0.3121 - val_accuracy: 0.8949\n",
            "Epoch 13/48\n",
            "1500/1500 [==============================] - 6s 4ms/step - loss: 0.2050 - accuracy: 0.9226 - val_loss: 0.3441 - val_accuracy: 0.8854\n",
            "Epoch 14/48\n",
            "1500/1500 [==============================] - 6s 4ms/step - loss: 0.1952 - accuracy: 0.9263 - val_loss: 0.3354 - val_accuracy: 0.8885\n",
            "Epoch 15/48\n",
            "1500/1500 [==============================] - 6s 4ms/step - loss: 0.1898 - accuracy: 0.9294 - val_loss: 0.3530 - val_accuracy: 0.8853\n",
            "Epoch 16/48\n",
            "1500/1500 [==============================] - 6s 4ms/step - loss: 0.1851 - accuracy: 0.9307 - val_loss: 0.3233 - val_accuracy: 0.8943\n",
            "Epoch 17/48\n",
            "1500/1500 [==============================] - 6s 4ms/step - loss: 0.1772 - accuracy: 0.9328 - val_loss: 0.3351 - val_accuracy: 0.8898\n",
            "Epoch 18/48\n",
            "1500/1500 [==============================] - 5s 4ms/step - loss: 0.1747 - accuracy: 0.9342 - val_loss: 0.3318 - val_accuracy: 0.8971\n",
            "Epoch 19/48\n",
            "1500/1500 [==============================] - 6s 4ms/step - loss: 0.1654 - accuracy: 0.9381 - val_loss: 0.3424 - val_accuracy: 0.8932\n",
            "Epoch 20/48\n",
            "1500/1500 [==============================] - 6s 4ms/step - loss: 0.1621 - accuracy: 0.9386 - val_loss: 0.3624 - val_accuracy: 0.8916\n",
            "Epoch 21/48\n",
            "1500/1500 [==============================] - 6s 4ms/step - loss: 0.1586 - accuracy: 0.9416 - val_loss: 0.3666 - val_accuracy: 0.8885\n",
            "Epoch 22/48\n",
            "1500/1500 [==============================] - 6s 4ms/step - loss: 0.1543 - accuracy: 0.9424 - val_loss: 0.3450 - val_accuracy: 0.8938\n",
            "Epoch 23/48\n",
            "1500/1500 [==============================] - 5s 4ms/step - loss: 0.1486 - accuracy: 0.9438 - val_loss: 0.3750 - val_accuracy: 0.8907\n",
            "Epoch 24/48\n",
            "1500/1500 [==============================] - 5s 4ms/step - loss: 0.1434 - accuracy: 0.9461 - val_loss: 0.3840 - val_accuracy: 0.8858\n",
            "Epoch 25/48\n",
            "1500/1500 [==============================] - 6s 4ms/step - loss: 0.1388 - accuracy: 0.9477 - val_loss: 0.3823 - val_accuracy: 0.8934\n",
            "Epoch 26/48\n",
            "1500/1500 [==============================] - 6s 4ms/step - loss: 0.1379 - accuracy: 0.9486 - val_loss: 0.3904 - val_accuracy: 0.8892\n",
            "Epoch 27/48\n",
            "1500/1500 [==============================] - 5s 4ms/step - loss: 0.1311 - accuracy: 0.9508 - val_loss: 0.3982 - val_accuracy: 0.8889\n",
            "Epoch 28/48\n",
            "1500/1500 [==============================] - 6s 4ms/step - loss: 0.1264 - accuracy: 0.9534 - val_loss: 0.3853 - val_accuracy: 0.8932\n",
            "Epoch 29/48\n",
            "1500/1500 [==============================] - 6s 4ms/step - loss: 0.1243 - accuracy: 0.9529 - val_loss: 0.4297 - val_accuracy: 0.8847\n",
            "Epoch 30/48\n",
            "1500/1500 [==============================] - 6s 4ms/step - loss: 0.1238 - accuracy: 0.9536 - val_loss: 0.4207 - val_accuracy: 0.8892\n",
            "Epoch 31/48\n",
            "1500/1500 [==============================] - 5s 4ms/step - loss: 0.1195 - accuracy: 0.9543 - val_loss: 0.4371 - val_accuracy: 0.8888\n",
            "Epoch 32/48\n",
            "1500/1500 [==============================] - 5s 4ms/step - loss: 0.1164 - accuracy: 0.9568 - val_loss: 0.4236 - val_accuracy: 0.8884\n",
            "Epoch 33/48\n",
            "1500/1500 [==============================] - 6s 4ms/step - loss: 0.1104 - accuracy: 0.9586 - val_loss: 0.3966 - val_accuracy: 0.8927\n",
            "Epoch 34/48\n",
            "1500/1500 [==============================] - 5s 4ms/step - loss: 0.1078 - accuracy: 0.9592 - val_loss: 0.4086 - val_accuracy: 0.8946\n",
            "Epoch 35/48\n",
            "1500/1500 [==============================] - 6s 4ms/step - loss: 0.1069 - accuracy: 0.9595 - val_loss: 0.4040 - val_accuracy: 0.8956\n",
            "Epoch 36/48\n",
            "1500/1500 [==============================] - 6s 4ms/step - loss: 0.1044 - accuracy: 0.9606 - val_loss: 0.4401 - val_accuracy: 0.8928\n",
            "Epoch 37/48\n",
            "1500/1500 [==============================] - 6s 4ms/step - loss: 0.1005 - accuracy: 0.9620 - val_loss: 0.4399 - val_accuracy: 0.8865\n",
            "Epoch 38/48\n",
            "1500/1500 [==============================] - 6s 4ms/step - loss: 0.0980 - accuracy: 0.9631 - val_loss: 0.4306 - val_accuracy: 0.8953\n",
            "Epoch 39/48\n",
            "1500/1500 [==============================] - 6s 4ms/step - loss: 0.0946 - accuracy: 0.9643 - val_loss: 0.4458 - val_accuracy: 0.8915\n",
            "Epoch 40/48\n",
            "1500/1500 [==============================] - 6s 4ms/step - loss: 0.0938 - accuracy: 0.9647 - val_loss: 0.4552 - val_accuracy: 0.8914\n",
            "Epoch 41/48\n",
            "1500/1500 [==============================] - 6s 4ms/step - loss: 0.0933 - accuracy: 0.9649 - val_loss: 0.4823 - val_accuracy: 0.8918\n",
            "Epoch 42/48\n",
            "1500/1500 [==============================] - 6s 4ms/step - loss: 0.0893 - accuracy: 0.9666 - val_loss: 0.4812 - val_accuracy: 0.8873\n",
            "Epoch 43/48\n",
            "1500/1500 [==============================] - 6s 4ms/step - loss: 0.0875 - accuracy: 0.9674 - val_loss: 0.4903 - val_accuracy: 0.8933\n",
            "Epoch 44/48\n",
            "1500/1500 [==============================] - 6s 4ms/step - loss: 0.0872 - accuracy: 0.9683 - val_loss: 0.4947 - val_accuracy: 0.8949\n",
            "Epoch 45/48\n",
            "1500/1500 [==============================] - 5s 4ms/step - loss: 0.0851 - accuracy: 0.9689 - val_loss: 0.4811 - val_accuracy: 0.8883\n",
            "Epoch 46/48\n",
            "1500/1500 [==============================] - 5s 4ms/step - loss: 0.0842 - accuracy: 0.9696 - val_loss: 0.4986 - val_accuracy: 0.8942\n",
            "Epoch 47/48\n",
            "1500/1500 [==============================] - 6s 4ms/step - loss: 0.0800 - accuracy: 0.9704 - val_loss: 0.4928 - val_accuracy: 0.8945\n",
            "Epoch 48/48\n",
            "1500/1500 [==============================] - 6s 4ms/step - loss: 0.0802 - accuracy: 0.9707 - val_loss: 0.5388 - val_accuracy: 0.8861\n"
          ],
          "name": "stdout"
        },
        {
          "output_type": "execute_result",
          "data": {
            "text/plain": [
              "<tensorflow.python.keras.callbacks.History at 0x7f8be8447590>"
            ]
          },
          "metadata": {
            "tags": []
          },
          "execution_count": 84
        }
      ]
    },
    {
      "cell_type": "code",
      "metadata": {
        "colab": {
          "base_uri": "https://localhost:8080/"
        },
        "id": "8Ps0TzJgNuxN",
        "outputId": "cd57f53f-2a33-4a9f-a125-7100bc2a5033"
      },
      "source": [
        "eval_result = hypermodel.evaluate(img_test, label_test)\n",
        "print(\"[test loss, test accuracy]:\", eval_result)"
      ],
      "execution_count": 85,
      "outputs": [
        {
          "output_type": "stream",
          "text": [
            "313/313 [==============================] - 1s 3ms/step - loss: 0.6031 - accuracy: 0.8793\n",
            "[test loss, test accuracy]: [0.6030765771865845, 0.8792999982833862]\n"
          ],
          "name": "stdout"
        }
      ]
    }
  ]
}